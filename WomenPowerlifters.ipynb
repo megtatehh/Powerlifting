{
 "cells": [
  {
   "cell_type": "markdown",
   "metadata": {},
   "source": [
    "# Are women powerlifters in the IPF (International Powerlifting Federation) getting stronger?"
   ]
  },
  {
   "cell_type": "markdown",
   "metadata": {},
   "source": [
    "## 1.0 Introduction\n",
    "In 2018 I started powerlifting as a woman in the IPF and I partake in SBD. SBD is a three lift event, where each competitor gets three attempts in all three events - squat, bench and deadlift. In order to calculate your final score, you add the maximum number of kilos lifted in each event together. Throughout this project I will only look at the maximum lifted per event at each competition. In the data this is the TotalKg column.\n",
    "<br />\n",
    "<br />\n",
    "Since I started, the amount of kilograms required, in SBD, has increased each year. This had led me to wonder if the women that I am competing against are getting stronger.\n",
    "<br />\n",
    "<br />\n",
    "There are lots of different categories within the IPF, so I will limit myself to look at the data for women who compete in the \"Open\" category (aged 24-40) and only for SBD. I will also limit myself to those who compete without equiptment, or in the \"Raw\" category. I aim to find out if this specific group of women are\n",
    "getting stronger.\n",
    "<br />\n",
    "<br />\n",
    "Please note because of the size restrictions of the coursework, I developed this script using all of the data and then significantly manually deleted rows that were being filted out by the script.\n",
    "\n",
    "## 1.1 Data Preperation\n",
    "I start by importing python packages that I have used through out this project.\n"
   ]
  },
  {
   "cell_type": "code",
   "execution_count": 1,
   "metadata": {},
   "outputs": [],
   "source": [
    "import pandas as pd\n",
    "import numpy as np\n",
    "\n",
    "import matplotlib.pyplot as plt\n",
    "from  matplotlib import pyplot\n",
    "%matplotlib inline\n",
    "import seaborn as sns\n",
    "\n",
    "# set defaults of any graphs displayed\n",
    "sns.set(rc={'figure.figsize':(11,4)})"
   ]
  },
  {
   "cell_type": "markdown",
   "metadata": {},
   "source": [
    "### 1.1 Obtaining The Data\n",
    "I start the project by importing the OpenPowerlifting dataset. (https://www.openpowerlifting.org/data) This is in a much nicer format on Kaggle and this is actually where I downloaded the data from (https://www.kaggle.com/open-powerlifting/powerlifting-database)\n",
    "\n",
    "### 1.2 Limitations Of The Data\n",
    "I think it is important to note that the data available from this source only begins in 2012, we have no data before this time and thus cannot look at time periods before this point. As well as this, it appears that the data from 2019 is incomplete and we should be mindful of this when using teh data in the analysis.\n",
    "\n",
    "### 1.3 Data Manipulation\n",
    "\n",
    "This data set contains a lot of rows that are not applicable, because of the limitations that I set out in the introduction. I have manually deleted some data in excel so that the data fits the requirements of the coursework brief. However I will import the data and remove any unneccessary rows. This will make the dataset much smaller and far more manageable."
   ]
  },
  {
   "cell_type": "code",
   "execution_count": 2,
   "metadata": {},
   "outputs": [],
   "source": [
    "# This definition loads the data for us to do the analysis on.\n",
    "def loadData(file_name=\"openpowerlifting.csv\"):\n",
    "    return pd.read_csv(file_name)\n"
   ]
  },
  {
   "cell_type": "code",
   "execution_count": 3,
   "metadata": {},
   "outputs": [],
   "source": [
    "#This definition creates a dataframe that only contains the data that I called out in the introduction.\n",
    "def Createdf():\n",
    "    Data=loadData()\n",
    "    \n",
    "    # Condition 1: Female\n",
    "    c1=Data['Sex']=='F' \n",
    "    # Condition 2: SBD\n",
    "    c2=Data['Event']=='SBD'\n",
    "    # Condition 3: Raw\n",
    "    c3=Data['Equipment']=='Raw'\n",
    "    # Condition 4: Open competitior - which is a categorgy based on age\n",
    "    c4=np.logical_and(Data['Age']>=24, Data['Age']<40)\n",
    "    # Condition 5: IPF competitor\n",
    "    c5=Data['Federation']=='IPF'\n",
    "\n",
    "    \n",
    "    NewData=Data[c1&c2&c3&c4&c5]\n",
    "    \n",
    "    NewData=pd.DataFrame(NewData)\n",
    "\n",
    "    return NewData\n",
    "    "
   ]
  },
  {
   "cell_type": "markdown",
   "metadata": {},
   "source": [
    "As well as removing rows, I also strip the data of unneccessary columns. For example, we have held a few columns constant- so they are no longer telling us anything extra about the data.\n",
    "<br />\n",
    "<br />\n",
    "I also remove columns that I am not interested in. Because I am only looking at the maximum lifted in a competition, I only need to keep the columns that have data in for each event. Thus I don't need to have the breakdown of each squat, bench and deadlift attempt per person per competition."
   ]
  },
  {
   "cell_type": "code",
   "execution_count": 16,
   "metadata": {},
   "outputs": [],
   "source": [
    "def ColReduction(): \n",
    "    Data=Createdf()\n",
    "\n",
    "    # I have removed columns that are either held constant because of the conditions imposed in the introduction or if the data is not used- we are taking max attempt- we don't need them all\n",
    "    df=Data.drop(columns=['Sex', 'Event', 'Equipment', 'Federation','Squat1Kg', 'Squat2Kg', 'Squat3Kg', 'Squat1Kg', 'Squat2Kg', 'Squat3Kg', 'Deadlift1Kg', 'Deadlift2Kg', 'Deadlift3Kg', 'Bench1Kg', 'Bench2Kg', 'Bench3Kg'])\n",
    "    \n",
    "    # add simply the year of the meet\n",
    "    df['Year']= pd.DatetimeIndex(df['Date']).year\n",
    "    return df"
   ]
  },
  {
   "cell_type": "markdown",
   "metadata": {},
   "source": [
    "Finally, I convert the columns into the correct format. Eg Date was an object but we have converted this to a DateTime."
   ]
  },
  {
   "cell_type": "code",
   "execution_count": 17,
   "metadata": {},
   "outputs": [],
   "source": [
    "def GetDataset():\n",
    "    df=ColReduction()\n",
    "    \n",
    "    # we need to convert Date into a date\n",
    "    df['Date']= pd.to_datetime(df['Date']) \n",
    "    return df"
   ]
  },
  {
   "cell_type": "markdown",
   "metadata": {},
   "source": [
    "We now have a data set that we are happy with and can perform some analysis on."
   ]
  },
  {
   "cell_type": "code",
   "execution_count": 18,
   "metadata": {},
   "outputs": [
    {
     "data": {
      "text/html": [
       "<div>\n",
       "<style scoped>\n",
       "    .dataframe tbody tr th:only-of-type {\n",
       "        vertical-align: middle;\n",
       "    }\n",
       "\n",
       "    .dataframe tbody tr th {\n",
       "        vertical-align: top;\n",
       "    }\n",
       "\n",
       "    .dataframe thead th {\n",
       "        text-align: right;\n",
       "    }\n",
       "</style>\n",
       "<table border=\"1\" class=\"dataframe\">\n",
       "  <thead>\n",
       "    <tr style=\"text-align: right;\">\n",
       "      <th></th>\n",
       "      <th>Name</th>\n",
       "      <th>Age</th>\n",
       "      <th>AgeClass</th>\n",
       "      <th>Division</th>\n",
       "      <th>BodyweightKg</th>\n",
       "      <th>WeightClassKg</th>\n",
       "      <th>Best3SquatKg</th>\n",
       "      <th>Best3BenchKg</th>\n",
       "      <th>Best3DeadliftKg</th>\n",
       "      <th>TotalKg</th>\n",
       "      <th>Date</th>\n",
       "      <th>Year</th>\n",
       "    </tr>\n",
       "  </thead>\n",
       "  <tbody>\n",
       "    <tr>\n",
       "      <th>1759</th>\n",
       "      <td>Joy Nnamani</td>\n",
       "      <td>26.5</td>\n",
       "      <td>24-34</td>\n",
       "      <td>Open</td>\n",
       "      <td>57.00</td>\n",
       "      <td>57</td>\n",
       "      <td>160.0</td>\n",
       "      <td>90.0</td>\n",
       "      <td>203.0</td>\n",
       "      <td>453.0</td>\n",
       "      <td>2019-01-27</td>\n",
       "      <td>2019</td>\n",
       "    </tr>\n",
       "    <tr>\n",
       "      <th>1760</th>\n",
       "      <td>RagnheiÃ°ur Kr. SigurÃ°ardÃ³ttir</td>\n",
       "      <td>37.5</td>\n",
       "      <td>35-39</td>\n",
       "      <td>Open</td>\n",
       "      <td>56.80</td>\n",
       "      <td>57</td>\n",
       "      <td>132.5</td>\n",
       "      <td>82.5</td>\n",
       "      <td>152.5</td>\n",
       "      <td>367.5</td>\n",
       "      <td>2019-01-27</td>\n",
       "      <td>2019</td>\n",
       "    </tr>\n",
       "    <tr>\n",
       "      <th>1763</th>\n",
       "      <td>KristÃ­n ÃžorsteinsdÃ³ttir Sonnentag</td>\n",
       "      <td>27.5</td>\n",
       "      <td>24-34</td>\n",
       "      <td>Open</td>\n",
       "      <td>83.50</td>\n",
       "      <td>84</td>\n",
       "      <td>117.5</td>\n",
       "      <td>75.0</td>\n",
       "      <td>180.0</td>\n",
       "      <td>372.5</td>\n",
       "      <td>2019-01-27</td>\n",
       "      <td>2019</td>\n",
       "    </tr>\n",
       "    <tr>\n",
       "      <th>1764</th>\n",
       "      <td>Rakel JÃ³nsdÃ³ttir</td>\n",
       "      <td>37.5</td>\n",
       "      <td>35-39</td>\n",
       "      <td>Open</td>\n",
       "      <td>79.75</td>\n",
       "      <td>84</td>\n",
       "      <td>142.5</td>\n",
       "      <td>62.5</td>\n",
       "      <td>130.0</td>\n",
       "      <td>335.0</td>\n",
       "      <td>2019-01-27</td>\n",
       "      <td>2019</td>\n",
       "    </tr>\n",
       "    <tr>\n",
       "      <th>1765</th>\n",
       "      <td>Bonica Brown</td>\n",
       "      <td>30.0</td>\n",
       "      <td>24-34</td>\n",
       "      <td>Open</td>\n",
       "      <td>131.45</td>\n",
       "      <td>84+</td>\n",
       "      <td>200.0</td>\n",
       "      <td>150.0</td>\n",
       "      <td>120.0</td>\n",
       "      <td>470.0</td>\n",
       "      <td>2019-01-27</td>\n",
       "      <td>2019</td>\n",
       "    </tr>\n",
       "  </tbody>\n",
       "</table>\n",
       "</div>"
      ],
      "text/plain": [
       "                                      Name   Age AgeClass Division  \\\n",
       "1759                           Joy Nnamani  26.5    24-34     Open   \n",
       "1760      RagnheiÃ°ur Kr. SigurÃ°ardÃ³ttir  37.5    35-39     Open   \n",
       "1763  KristÃ­n ÃžorsteinsdÃ³ttir Sonnentag  27.5    24-34     Open   \n",
       "1764                    Rakel JÃ³nsdÃ³ttir  37.5    35-39     Open   \n",
       "1765                          Bonica Brown  30.0    24-34     Open   \n",
       "\n",
       "      BodyweightKg WeightClassKg  Best3SquatKg  Best3BenchKg  Best3DeadliftKg  \\\n",
       "1759         57.00            57         160.0          90.0            203.0   \n",
       "1760         56.80            57         132.5          82.5            152.5   \n",
       "1763         83.50            84         117.5          75.0            180.0   \n",
       "1764         79.75            84         142.5          62.5            130.0   \n",
       "1765        131.45           84+         200.0         150.0            120.0   \n",
       "\n",
       "      TotalKg       Date  Year  \n",
       "1759    453.0 2019-01-27  2019  \n",
       "1760    367.5 2019-01-27  2019  \n",
       "1763    372.5 2019-01-27  2019  \n",
       "1764    335.0 2019-01-27  2019  \n",
       "1765    470.0 2019-01-27  2019  "
      ]
     },
     "execution_count": 18,
     "metadata": {},
     "output_type": "execute_result"
    }
   ],
   "source": [
    "GetDataset().head()"
   ]
  },
  {
   "cell_type": "markdown",
   "metadata": {},
   "source": [
    "## 2.0 Data Analysis\n",
    "\n",
    "\n",
    "## 2.1 Methodology- Useful Functions\n",
    "This section contains fuctions that prove helpful in analysing the data. It contains fuctions that provide summary statistics and also those that plot graphs. The logic behind why these functions have been chosen will be explained in the results. <br /> <br /> The plotLine function plots the data points on a blue line and also a trend line as a red dotted line."
   ]
  },
  {
   "cell_type": "code",
   "execution_count": 19,
   "metadata": {},
   "outputs": [],
   "source": [
    "def plotLine(x,y):\n",
    "    plt.plot(x, y)\n",
    "\n",
    "    z = np.polyfit(x, y, 1)\n",
    "    p = np.poly1d(z)\n",
    "    plt.plot(x,p(x),\"r--\")\n",
    "\n",
    "    return plt.show()"
   ]
  },
  {
   "cell_type": "markdown",
   "metadata": {},
   "source": [
    "The InitialLook function produces a summary table of the TotalKgs lifted and also plot each point over time. This only takes into account the year that the competition was done in and not the actual date, as there was some noise in the data as a result."
   ]
  },
  {
   "cell_type": "code",
   "execution_count": 20,
   "metadata": {},
   "outputs": [],
   "source": [
    "def InitialLook(df):\n",
    "    print( 'Figure 1')\n",
    "    return plt.scatter(df['Year'], df['TotalKg']), df['TotalKg'].describe()"
   ]
  },
  {
   "cell_type": "markdown",
   "metadata": {},
   "source": [
    "The MeanOverTime function plots the mean over time using the previously defined plotLine function. Similarly, the MedianOverTime function plots the median over time using the previously defined plotLine function."
   ]
  },
  {
   "cell_type": "code",
   "execution_count": 21,
   "metadata": {
    "scrolled": true
   },
   "outputs": [],
   "source": [
    "def MeanOverTime(df):\n",
    "    #Manipulate dataframe slightly to get the mean Total Kg per Year\n",
    "    DateGroups= df.groupby('Year', as_index=False)['TotalKg'].mean()\n",
    "\n",
    "    #Plot this on a graph\n",
    "    x = DateGroups['Year']\n",
    "    y = DateGroups['TotalKg']\n",
    "    print ('Figure 2')\n",
    "    return plotLine(x,y)"
   ]
  },
  {
   "cell_type": "code",
   "execution_count": 22,
   "metadata": {},
   "outputs": [],
   "source": [
    "def MedianOverTime(df):\n",
    "    #Manipulate dataframe slightly to get the median Total Kg per Year\n",
    "    DateGroups= df.groupby('Year', as_index=False)['TotalKg'].median()\n",
    "    \n",
    "    #Plot graph over time\n",
    "    x = DateGroups['Year']\n",
    "    y = DateGroups['TotalKg']\n",
    "    print ('Figure 3')\n",
    "    return plotLine(x,y)"
   ]
  },
  {
   "cell_type": "markdown",
   "metadata": {},
   "source": [
    "The TotalKgBoxPlot function produces a box plot of the TotalKgs lifted by each year."
   ]
  },
  {
   "cell_type": "code",
   "execution_count": 23,
   "metadata": {},
   "outputs": [],
   "source": [
    "def TotalKgBoxPlot(df):\n",
    "    print ('Figure 4')\n",
    "    ax = sns.boxplot(x=df[\"Year\"], y=df[\"TotalKg\"])\n",
    "    return ax"
   ]
  },
  {
   "cell_type": "markdown",
   "metadata": {},
   "source": [
    "## 2.2 Results\n",
    "Let's begin by looking at the general distribution of the TotalKg data and some summary statistics around this."
   ]
  },
  {
   "cell_type": "code",
   "execution_count": 24,
   "metadata": {},
   "outputs": [
    {
     "name": "stdout",
     "output_type": "stream",
     "text": [
      "Figure 1\n"
     ]
    },
    {
     "data": {
      "text/plain": [
       "(<matplotlib.collections.PathCollection at 0x1a6e869a608>, count    354.000000\n",
       " mean     389.468927\n",
       " std       75.405235\n",
       " min      145.000000\n",
       " 25%      340.000000\n",
       " 50%      385.000000\n",
       " 75%      432.500000\n",
       " max      671.500000\n",
       " Name: TotalKg, dtype: float64)"
      ]
     },
     "execution_count": 24,
     "metadata": {},
     "output_type": "execute_result"
    },
    {
     "data": {
      "image/png": "[encoded data removed]",
      "text/plain": [
       "<Figure size 432x288 with 1 Axes>"
      ]
     },
     "metadata": {
      "needs_background": "light"
     },
     "output_type": "display_data"
    }
   ],
   "source": [
    "df=GetDataset()\n",
    "InitialLook(df)"
   ]
  },
  {
   "cell_type": "markdown",
   "metadata": {},
   "source": [
    "Before discussing the results, it should be explicitly called out that I am only looking at the year that the competition was conducted in and not the date itself. This is because over this timeframe there has been an increase in the number of competitions conducted globaly on non regular cadences. Thus reducing the date to just the year will hopefully remove any possible seasonal data patterns (in a crude way). <br /> <br />\n",
    "I also want to call out that there appears to be not very many data points for 2019- which would imply that the 2019 data is incomplete and may be unrepresentative of the results of the total year. I have however kept it in the analyis, but we should be mindful of this.<br /><br />\n",
    "Looking at the scatter plot first, we can see that it is pretty hard for the human eye to say whether or not women in the IPF are getting stronger. The data points are very clustered, making it very hard to tell what is going on. Further analysis is required. <br /> <br />\n",
    "Now looking at the summary statistics, we can see that there are only 457 data points in our data. This means that since 2012, women have only lifted 457 times in SBD in the IPF. It should be noted that this is not a very large population size. <br /> <br/>\n",
    "We can also note that the median is slighly smaller than the mean which would imply a slight right skew - meaning that there could be some outliers bringing the mean up. <br /> <br />\n",
    "Despite the possibility of a skew, I think it is important to look at how the mean is acting. Figure 2 shows how the mean TotalKg lifted each year is tracking over time, depicted as the blue line."
   ]
  },
  {
   "cell_type": "code",
   "execution_count": 25,
   "metadata": {},
   "outputs": [
    {
     "name": "stdout",
     "output_type": "stream",
     "text": [
      "Figure 2\n"
     ]
    },
    {
     "data": {
      "image/png": "[encoded data removed]",
      "text/plain": [
       "<Figure size 432x288 with 1 Axes>"
      ]
     },
     "metadata": {
      "needs_background": "light"
     },
     "output_type": "display_data"
    }
   ],
   "source": [
    "MeanOverTime(df)"
   ]
  },
  {
   "cell_type": "markdown",
   "metadata": {},
   "source": [
    "The mean over time is quite volitile and has a range of over 20kg. Because of this volitility, I have added the red dotted line that shows the general trend of the data. As you can see the general trend line has a positive gradient and thus would imply that the mean TotalKg being lifted by women in the IPF is increasing over time. <br /> <br /> \n",
    "\n",
    "However, I have mentioned the possibility of a positive skew and I think that it is important that we address this. Figure 3 is similar to the graph we have just discussed, but instead of looking at the mean TotalKg over time, we are instead looking at the median TotalKg over time."
   ]
  },
  {
   "cell_type": "code",
   "execution_count": 26,
   "metadata": {},
   "outputs": [
    {
     "name": "stdout",
     "output_type": "stream",
     "text": [
      "Figure 3\n"
     ]
    },
    {
     "data": {
      "image/png": "[encoded data removed]",
      "text/plain": [
       "<Figure size 432x288 with 1 Axes>"
      ]
     },
     "metadata": {
      "needs_background": "light"
     },
     "output_type": "display_data"
    }
   ],
   "source": [
    "MedianOverTime(df)"
   ]
  },
  {
   "cell_type": "markdown",
   "metadata": {},
   "source": [
    "While we see that the median over time is slightly more volitile than the mean, the more interesting thing here to note is the (red) trend line. We can see that the the trend line in Figure 3 also has a positive gradient, meaning that the median TotalKg over time is increasing. However on closer inspection we also see that this trend line is less steep than the trend line in Figure 2. Furthermore, the y axis on Figure 3 has smaller steps than the y axis in Figure 2, which further confirms that there is a smaller increase in the median TotalKg over time than the mean TotalKg over time. \n",
    "\n",
    "<br /> Finally, I want to visually confirm that there are outliers in the data that are bringing the mean up faster than the median. In order to do this we plot the box plot shown in Figure 4."
   ]
  },
  {
   "cell_type": "code",
   "execution_count": 27,
   "metadata": {},
   "outputs": [
    {
     "name": "stdout",
     "output_type": "stream",
     "text": [
      "Figure 4\n"
     ]
    },
    {
     "data": {
      "text/plain": [
       "<matplotlib.axes._subplots.AxesSubplot at 0x1a6e8714a08>"
      ]
     },
     "execution_count": 27,
     "metadata": {},
     "output_type": "execute_result"
    },
    {
     "data": {
      "image/png": "[encoded data removed]",
      "text/plain": [
       "<Figure size 432x288 with 1 Axes>"
      ]
     },
     "metadata": {
      "needs_background": "light"
     },
     "output_type": "display_data"
    }
   ],
   "source": [
    "TotalKgBoxPlot(df)"
   ]
  },
  {
   "cell_type": "markdown",
   "metadata": {},
   "source": [
    "As we hypothesised, we can see that in later years there are an increasing number of ouliers above the upper tails on the box plot. This would imply that there are an increasing number of events where a woman powerlifter has lifted heavier than 1.5*IQR+3rdQuartile."
   ]
  },
  {
   "cell_type": "markdown",
   "metadata": {},
   "source": [
    "## 2.3 Discussion\n",
    "\n",
    "### 2.3.1 Limitations\n",
    "The results of this study are not reflective of results of a wider population, namely they are only reflective of women who have competed in the IPF- they may not be extended to wider powerlifting groups or other genders without further analysis.\n",
    "<br /><br /> The results from this analysis do not show how much women in the IPF are getting stronger. <br /> <br />This analysis only has data from 2012, trends before this time are not accounted for. \n",
    "### 2.3.2 Further Analysis\n",
    "There may be some further interesting analysis to be done with this data. I think it would be interesting to look at each weight category and see if some weight categories are getting proportionally stronger than others. <br /> <br />It may also be interesting to compare if the increases in the TotalKg required to qualify for national competitions are proportional to the increases in TotalKg over time. <br /> <br />Furthermore, I think it could be interesting to see how different federations compare as this analysis was limited to IPF only.<br /><br /> The analysis done throughout this report is very elementary. It may be interesting to look at a wider range of statistics.<br /><br /> This analysis should be re run and findings updates once the 2019 data has been populated completely.\n",
    "\n",
    "\n",
    "# 3.0 Conclusion\n",
    "In response to the title we can conclude that from this analysis, it would appear that women competing in the IPF SBD competitions are getting stonger as the trends of both the mean and the median TotalKg over this timeframe have increased.\n",
    "\n",
    "## 4.0 Appendix\n",
    "In this section, I have included some extra analysis that I conducted, that I thought may be of interest to the reader.\n",
    "\n",
    "While looking at Figure 2, I wondered what a rolling average would show. This can be seen in Figure 4.1. I have not included it in the main body of this analysis as I don't think it adds a huge amount- however I have included it in the appendix to satisfy any curious readers. "
   ]
  },
  {
   "cell_type": "code",
   "execution_count": 28,
   "metadata": {},
   "outputs": [
    {
     "name": "stdout",
     "output_type": "stream",
     "text": [
      "Figure 4.1\n"
     ]
    },
    {
     "data": {
      "image/png": "[encoded data removed]",
      "text/plain": [
       "<Figure size 432x288 with 1 Axes>"
      ]
     },
     "metadata": {
      "needs_background": "light"
     },
     "output_type": "display_data"
    }
   ],
   "source": [
    "DateGroups= df.groupby('Year', as_index=False)['TotalKg'].mean()\n",
    "for i in range(0,DateGroups.shape[0]-2):\n",
    "        DateGroups.loc[DateGroups.index[i+2],'SMA_3'] = np.round(((DateGroups.iloc[i,1]+ DateGroups.iloc[i+1,1] +DateGroups.iloc[i+2,1])/3),1)\n",
    "\n",
    "DateGroups2 = DateGroups[DateGroups['SMA_3'].notna()]\n",
    "x = DateGroups2['Year']\n",
    "y = DateGroups2['SMA_3']\n",
    "plt.plot(x, y)\n",
    "\n",
    "z = np.polyfit(x, y, 1)\n",
    "p = np.poly1d(z)\n",
    "plt.plot(x,p(x),\"r--\")\n",
    "print ('Figure 4.1')\n",
    "plt.show()"
   ]
  },
  {
   "cell_type": "markdown",
   "metadata": {},
   "source": [
    "In 2.3.2 I mentioned that it may be worth looking at the different weight categories in further detail. To satisfy my own curiosity, I plotted a box plot to see how TotalKg changes for each of the different women's weight categories in the IPF. This is shown as Figure 4.2. An interesting thing to note here is the lack of upper outliers."
   ]
  },
  {
   "cell_type": "code",
   "execution_count": 29,
   "metadata": {
    "scrolled": true
   },
   "outputs": [
    {
     "name": "stdout",
     "output_type": "stream",
     "text": [
      "Figure 4.2\n"
     ]
    },
    {
     "data": {
      "image/png": "[encoded data removed]",
      "text/plain": [
       "<Figure size 432x288 with 1 Axes>"
      ]
     },
     "metadata": {
      "needs_background": "light"
     },
     "output_type": "display_data"
    }
   ],
   "source": [
    "print ('Figure 4.2')\n",
    "ax = sns.boxplot(x=df[\"WeightClassKg\"], y=df[\"TotalKg\"], order=['47','52','57','63','72','84', '84+'])"
   ]
  },
  {
   "cell_type": "code",
   "execution_count": 4,
   "metadata": {},
   "outputs": [],
   "source": [
    "df=Createdf()"
   ]
  },
  {
   "cell_type": "code",
   "execution_count": 5,
   "metadata": {},
   "outputs": [
    {
     "data": {
      "text/html": [
       "<div>\n",
       "<style scoped>\n",
       "    .dataframe tbody tr th:only-of-type {\n",
       "        vertical-align: middle;\n",
       "    }\n",
       "\n",
       "    .dataframe tbody tr th {\n",
       "        vertical-align: top;\n",
       "    }\n",
       "\n",
       "    .dataframe thead th {\n",
       "        text-align: right;\n",
       "    }\n",
       "</style>\n",
       "<table border=\"1\" class=\"dataframe\">\n",
       "  <thead>\n",
       "    <tr style=\"text-align: right;\">\n",
       "      <th></th>\n",
       "      <th>Name</th>\n",
       "      <th>Sex</th>\n",
       "      <th>Event</th>\n",
       "      <th>Equipment</th>\n",
       "      <th>Age</th>\n",
       "      <th>AgeClass</th>\n",
       "      <th>Division</th>\n",
       "      <th>BodyweightKg</th>\n",
       "      <th>WeightClassKg</th>\n",
       "      <th>Squat1Kg</th>\n",
       "      <th>...</th>\n",
       "      <th>Bench2Kg</th>\n",
       "      <th>Bench3Kg</th>\n",
       "      <th>Best3BenchKg</th>\n",
       "      <th>Deadlift1Kg</th>\n",
       "      <th>Deadlift2Kg</th>\n",
       "      <th>Deadlift3Kg</th>\n",
       "      <th>Best3DeadliftKg</th>\n",
       "      <th>TotalKg</th>\n",
       "      <th>Federation</th>\n",
       "      <th>Date</th>\n",
       "    </tr>\n",
       "  </thead>\n",
       "  <tbody>\n",
       "    <tr>\n",
       "      <th>1759</th>\n",
       "      <td>Joy Nnamani</td>\n",
       "      <td>F</td>\n",
       "      <td>SBD</td>\n",
       "      <td>Raw</td>\n",
       "      <td>26.5</td>\n",
       "      <td>24-34</td>\n",
       "      <td>Open</td>\n",
       "      <td>57.00</td>\n",
       "      <td>57</td>\n",
       "      <td>145.0</td>\n",
       "      <td>...</td>\n",
       "      <td>87.5</td>\n",
       "      <td>90.0</td>\n",
       "      <td>90.0</td>\n",
       "      <td>-190.0</td>\n",
       "      <td>190.0</td>\n",
       "      <td>203.0</td>\n",
       "      <td>203.0</td>\n",
       "      <td>453.0</td>\n",
       "      <td>IPF</td>\n",
       "      <td>27/01/2019</td>\n",
       "    </tr>\n",
       "    <tr>\n",
       "      <th>1760</th>\n",
       "      <td>RagnheiÃ°ur Kr. SigurÃ°ardÃ³ttir</td>\n",
       "      <td>F</td>\n",
       "      <td>SBD</td>\n",
       "      <td>Raw</td>\n",
       "      <td>37.5</td>\n",
       "      <td>35-39</td>\n",
       "      <td>Open</td>\n",
       "      <td>56.80</td>\n",
       "      <td>57</td>\n",
       "      <td>NaN</td>\n",
       "      <td>...</td>\n",
       "      <td>80.0</td>\n",
       "      <td>82.5</td>\n",
       "      <td>82.5</td>\n",
       "      <td>145.0</td>\n",
       "      <td>-152.5</td>\n",
       "      <td>152.5</td>\n",
       "      <td>152.5</td>\n",
       "      <td>367.5</td>\n",
       "      <td>IPF</td>\n",
       "      <td>27/01/2019</td>\n",
       "    </tr>\n",
       "    <tr>\n",
       "      <th>1763</th>\n",
       "      <td>KristÃ­n ÃžorsteinsdÃ³ttir Sonnentag</td>\n",
       "      <td>F</td>\n",
       "      <td>SBD</td>\n",
       "      <td>Raw</td>\n",
       "      <td>27.5</td>\n",
       "      <td>24-34</td>\n",
       "      <td>Open</td>\n",
       "      <td>83.50</td>\n",
       "      <td>84</td>\n",
       "      <td>110.0</td>\n",
       "      <td>...</td>\n",
       "      <td>75.0</td>\n",
       "      <td>-80.0</td>\n",
       "      <td>75.0</td>\n",
       "      <td>180.0</td>\n",
       "      <td>-190.0</td>\n",
       "      <td>-195.0</td>\n",
       "      <td>180.0</td>\n",
       "      <td>372.5</td>\n",
       "      <td>IPF</td>\n",
       "      <td>27/01/2019</td>\n",
       "    </tr>\n",
       "    <tr>\n",
       "      <th>1764</th>\n",
       "      <td>Rakel JÃ³nsdÃ³ttir</td>\n",
       "      <td>F</td>\n",
       "      <td>SBD</td>\n",
       "      <td>Raw</td>\n",
       "      <td>37.5</td>\n",
       "      <td>35-39</td>\n",
       "      <td>Open</td>\n",
       "      <td>79.75</td>\n",
       "      <td>84</td>\n",
       "      <td>135.0</td>\n",
       "      <td>...</td>\n",
       "      <td>-67.5</td>\n",
       "      <td>-67.5</td>\n",
       "      <td>62.5</td>\n",
       "      <td>120.0</td>\n",
       "      <td>130.0</td>\n",
       "      <td>-140.0</td>\n",
       "      <td>130.0</td>\n",
       "      <td>335.0</td>\n",
       "      <td>IPF</td>\n",
       "      <td>27/01/2019</td>\n",
       "    </tr>\n",
       "    <tr>\n",
       "      <th>1765</th>\n",
       "      <td>Bonica Brown</td>\n",
       "      <td>F</td>\n",
       "      <td>SBD</td>\n",
       "      <td>Raw</td>\n",
       "      <td>30.0</td>\n",
       "      <td>24-34</td>\n",
       "      <td>Open</td>\n",
       "      <td>131.45</td>\n",
       "      <td>84+</td>\n",
       "      <td>170.0</td>\n",
       "      <td>...</td>\n",
       "      <td>150.0</td>\n",
       "      <td>-152.5</td>\n",
       "      <td>150.0</td>\n",
       "      <td>-112.5</td>\n",
       "      <td>120.0</td>\n",
       "      <td>-122.5</td>\n",
       "      <td>120.0</td>\n",
       "      <td>470.0</td>\n",
       "      <td>IPF</td>\n",
       "      <td>27/01/2019</td>\n",
       "    </tr>\n",
       "  </tbody>\n",
       "</table>\n",
       "<p>5 rows × 24 columns</p>\n",
       "</div>"
      ],
      "text/plain": [
       "                                      Name Sex Event Equipment   Age AgeClass  \\\n",
       "1759                           Joy Nnamani   F   SBD       Raw  26.5    24-34   \n",
       "1760      RagnheiÃ°ur Kr. SigurÃ°ardÃ³ttir   F   SBD       Raw  37.5    35-39   \n",
       "1763  KristÃ­n ÃžorsteinsdÃ³ttir Sonnentag   F   SBD       Raw  27.5    24-34   \n",
       "1764                    Rakel JÃ³nsdÃ³ttir   F   SBD       Raw  37.5    35-39   \n",
       "1765                          Bonica Brown   F   SBD       Raw  30.0    24-34   \n",
       "\n",
       "     Division  BodyweightKg WeightClassKg  Squat1Kg  ...  Bench2Kg  Bench3Kg  \\\n",
       "1759     Open         57.00            57     145.0  ...      87.5      90.0   \n",
       "1760     Open         56.80            57       NaN  ...      80.0      82.5   \n",
       "1763     Open         83.50            84     110.0  ...      75.0     -80.0   \n",
       "1764     Open         79.75            84     135.0  ...     -67.5     -67.5   \n",
       "1765     Open        131.45           84+     170.0  ...     150.0    -152.5   \n",
       "\n",
       "      Best3BenchKg  Deadlift1Kg  Deadlift2Kg  Deadlift3Kg  Best3DeadliftKg  \\\n",
       "1759          90.0       -190.0        190.0        203.0            203.0   \n",
       "1760          82.5        145.0       -152.5        152.5            152.5   \n",
       "1763          75.0        180.0       -190.0       -195.0            180.0   \n",
       "1764          62.5        120.0        130.0       -140.0            130.0   \n",
       "1765         150.0       -112.5        120.0       -122.5            120.0   \n",
       "\n",
       "      TotalKg  Federation        Date  \n",
       "1759    453.0         IPF  27/01/2019  \n",
       "1760    367.5         IPF  27/01/2019  \n",
       "1763    372.5         IPF  27/01/2019  \n",
       "1764    335.0         IPF  27/01/2019  \n",
       "1765    470.0         IPF  27/01/2019  \n",
       "\n",
       "[5 rows x 24 columns]"
      ]
     },
     "execution_count": 5,
     "metadata": {},
     "output_type": "execute_result"
    }
   ],
   "source": [
    "df.head()"
   ]
  },
  {
   "cell_type": "code",
   "execution_count": 6,
   "metadata": {},
   "outputs": [
    {
     "data": {
      "text/plain": [
       "36850.0"
      ]
     },
     "execution_count": 6,
     "metadata": {},
     "output_type": "execute_result"
    }
   ],
   "source": [
    "df['Squat1Kg'].sum()"
   ]
  },
  {
   "cell_type": "code",
   "execution_count": null,
   "metadata": {},
   "outputs": [],
   "source": [
    "df"
   ]
  }
 ],
 "metadata": {
  "kernelspec": {
   "display_name": "Python 3",
   "language": "python",
   "name": "python3"
  },
  "language_info": {
   "codemirror_mode": {
    "name": "ipython",
    "version": 3
   },
   "file_extension": ".py",
   "mimetype": "text/x-python",
   "name": "python",
   "nbconvert_exporter": "python",
   "pygments_lexer": "ipython3",
   "version": "3.7.4"
  }
 },
 "nbformat": 4,
 "nbformat_minor": 2
}
